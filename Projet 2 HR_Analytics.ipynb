{
 "cells": [
  {
   "cell_type": "code",
   "execution_count": 2,
   "id": "601eee2a-31fa-4a0c-8532-46416ab159e3",
   "metadata": {},
   "outputs": [
    {
     "name": "stdout",
     "output_type": "stream",
     "text": [
      "              Employee_Name  EmpID  MarriedID  MaritalStatusID  GenderID  \\\n",
      "0       Adinolfi, Wilson  K  10026          0                0         1   \n",
      "1  Ait Sidi, Karthikeyan     10084          1                1         1   \n",
      "2         Akinkuolie, Sarah  10196          1                1         0   \n",
      "3              Alagbe,Trina  10088          1                1         0   \n",
      "4          Anderson, Carol   10069          0                2         0   \n",
      "\n",
      "   EmpStatusID  DeptID  PerfScoreID  FromDiversityJobFairID  Salary  ...  \\\n",
      "0            1       5            4                       0   62506  ...   \n",
      "1            5       3            3                       0  104437  ...   \n",
      "2            5       5            3                       0   64955  ...   \n",
      "3            1       5            3                       0   64991  ...   \n",
      "4            5       5            3                       0   50825  ...   \n",
      "\n",
      "      ManagerName  ManagerID RecruitmentSource PerformanceScore  \\\n",
      "0  Michael Albert       22.0          LinkedIn          Exceeds   \n",
      "1      Simon Roup        4.0            Indeed      Fully Meets   \n",
      "2  Kissy Sullivan       20.0          LinkedIn      Fully Meets   \n",
      "3    Elijiah Gray       16.0            Indeed      Fully Meets   \n",
      "4  Webster Butler       39.0     Google Search      Fully Meets   \n",
      "\n",
      "   EngagementSurvey EmpSatisfaction SpecialProjectsCount  \\\n",
      "0              4.60               5                    0   \n",
      "1              4.96               3                    6   \n",
      "2              3.02               3                    0   \n",
      "3              4.84               5                    0   \n",
      "4              5.00               4                    0   \n",
      "\n",
      "  LastPerformanceReview_Date DaysLateLast30 Absences  \n",
      "0                  1/17/2019              0        1  \n",
      "1                  2/24/2016              0       17  \n",
      "2                  5/15/2012              0        3  \n",
      "3                   1/3/2019              0       15  \n",
      "4                   2/1/2016              0        2  \n",
      "\n",
      "[5 rows x 36 columns]\n"
     ]
    }
   ],
   "source": [
    "import pandas as pd\n",
    "\n",
    "# Charger le dataset\n",
    "df = pd.read_csv('HRDataset_v14.csv')\n",
    "\n",
    "# Afficher les premières lignes\n",
    "print(df.head())"
   ]
  },
  {
   "cell_type": "markdown",
   "id": "4c21108a-782f-44aa-a4be-afde7e9b78c8",
   "metadata": {},
   "source": [
    "## Verification et Nettoyage des donnees"
   ]
  },
  {
   "cell_type": "code",
   "execution_count": 3,
   "id": "4dc16631-efd0-4d76-a8c0-107d6d52e355",
   "metadata": {},
   "outputs": [
    {
     "name": "stdout",
     "output_type": "stream",
     "text": [
      "<class 'pandas.core.frame.DataFrame'>\n",
      "RangeIndex: 311 entries, 0 to 310\n",
      "Data columns (total 36 columns):\n",
      " #   Column                      Non-Null Count  Dtype  \n",
      "---  ------                      --------------  -----  \n",
      " 0   Employee_Name               311 non-null    object \n",
      " 1   EmpID                       311 non-null    int64  \n",
      " 2   MarriedID                   311 non-null    int64  \n",
      " 3   MaritalStatusID             311 non-null    int64  \n",
      " 4   GenderID                    311 non-null    int64  \n",
      " 5   EmpStatusID                 311 non-null    int64  \n",
      " 6   DeptID                      311 non-null    int64  \n",
      " 7   PerfScoreID                 311 non-null    int64  \n",
      " 8   FromDiversityJobFairID      311 non-null    int64  \n",
      " 9   Salary                      311 non-null    int64  \n",
      " 10  Termd                       311 non-null    int64  \n",
      " 11  PositionID                  311 non-null    int64  \n",
      " 12  Position                    311 non-null    object \n",
      " 13  State                       311 non-null    object \n",
      " 14  Zip                         311 non-null    int64  \n",
      " 15  DOB                         311 non-null    object \n",
      " 16  Sex                         311 non-null    object \n",
      " 17  MaritalDesc                 311 non-null    object \n",
      " 18  CitizenDesc                 311 non-null    object \n",
      " 19  HispanicLatino              311 non-null    object \n",
      " 20  RaceDesc                    311 non-null    object \n",
      " 21  DateofHire                  311 non-null    object \n",
      " 22  DateofTermination           104 non-null    object \n",
      " 23  TermReason                  311 non-null    object \n",
      " 24  EmploymentStatus            311 non-null    object \n",
      " 25  Department                  311 non-null    object \n",
      " 26  ManagerName                 311 non-null    object \n",
      " 27  ManagerID                   303 non-null    float64\n",
      " 28  RecruitmentSource           311 non-null    object \n",
      " 29  PerformanceScore            311 non-null    object \n",
      " 30  EngagementSurvey            311 non-null    float64\n",
      " 31  EmpSatisfaction             311 non-null    int64  \n",
      " 32  SpecialProjectsCount        311 non-null    int64  \n",
      " 33  LastPerformanceReview_Date  311 non-null    object \n",
      " 34  DaysLateLast30              311 non-null    int64  \n",
      " 35  Absences                    311 non-null    int64  \n",
      "dtypes: float64(2), int64(16), object(18)\n",
      "memory usage: 87.6+ KB\n",
      "None\n"
     ]
    }
   ],
   "source": [
    "# Vérifier les infos sur les colonnes\n",
    "print(df.info())"
   ]
  },
  {
   "cell_type": "code",
   "execution_count": 4,
   "id": "5339f29d-c0d0-496d-98bc-6f2acb6e234f",
   "metadata": {},
   "outputs": [
    {
     "name": "stdout",
     "output_type": "stream",
     "text": [
      "Employee_Name                   0\n",
      "EmpID                           0\n",
      "MarriedID                       0\n",
      "MaritalStatusID                 0\n",
      "GenderID                        0\n",
      "EmpStatusID                     0\n",
      "DeptID                          0\n",
      "PerfScoreID                     0\n",
      "FromDiversityJobFairID          0\n",
      "Salary                          0\n",
      "Termd                           0\n",
      "PositionID                      0\n",
      "Position                        0\n",
      "State                           0\n",
      "Zip                             0\n",
      "DOB                             0\n",
      "Sex                             0\n",
      "MaritalDesc                     0\n",
      "CitizenDesc                     0\n",
      "HispanicLatino                  0\n",
      "RaceDesc                        0\n",
      "DateofHire                      0\n",
      "DateofTermination             207\n",
      "TermReason                      0\n",
      "EmploymentStatus                0\n",
      "Department                      0\n",
      "ManagerName                     0\n",
      "ManagerID                       8\n",
      "RecruitmentSource               0\n",
      "PerformanceScore                0\n",
      "EngagementSurvey                0\n",
      "EmpSatisfaction                 0\n",
      "SpecialProjectsCount            0\n",
      "LastPerformanceReview_Date      0\n",
      "DaysLateLast30                  0\n",
      "Absences                        0\n",
      "dtype: int64\n"
     ]
    }
   ],
   "source": [
    "# Vérifier les valeurs manquantes\n",
    "print(df.isnull().sum())"
   ]
  },
  {
   "cell_type": "code",
   "execution_count": 5,
   "id": "9d301b45-5be6-4ad0-a7ea-756dd447ff44",
   "metadata": {},
   "outputs": [],
   "source": [
    "# Supprimer les lignes avec valeurs manquantes (ou les remplacer)\n",
    "df = df.dropna()  # Ou df.fillna(valeur)"
   ]
  },
  {
   "cell_type": "code",
   "execution_count": 6,
   "id": "7a6ec35b-885c-46e6-95dd-208d6e2ee2e2",
   "metadata": {},
   "outputs": [
    {
     "name": "stdout",
     "output_type": "stream",
     "text": [
      "0\n"
     ]
    }
   ],
   "source": [
    "# Vérifier les doublons\n",
    "print(df.duplicated().sum())"
   ]
  },
  {
   "cell_type": "code",
   "execution_count": 7,
   "id": "899019a2-9604-4a64-9577-93a648a86b3c",
   "metadata": {},
   "outputs": [
    {
     "name": "stdout",
     "output_type": "stream",
     "text": [
      "Employee_Name                  object\n",
      "EmpID                           int64\n",
      "MarriedID                       int64\n",
      "MaritalStatusID                 int64\n",
      "GenderID                        int64\n",
      "EmpStatusID                     int64\n",
      "DeptID                          int64\n",
      "PerfScoreID                     int64\n",
      "FromDiversityJobFairID          int64\n",
      "Salary                          int64\n",
      "Termd                           int64\n",
      "PositionID                      int64\n",
      "Position                       object\n",
      "State                          object\n",
      "Zip                             int64\n",
      "DOB                            object\n",
      "Sex                            object\n",
      "MaritalDesc                    object\n",
      "CitizenDesc                    object\n",
      "HispanicLatino                 object\n",
      "RaceDesc                       object\n",
      "DateofHire                     object\n",
      "DateofTermination              object\n",
      "TermReason                     object\n",
      "EmploymentStatus               object\n",
      "Department                     object\n",
      "ManagerName                    object\n",
      "ManagerID                     float64\n",
      "RecruitmentSource              object\n",
      "PerformanceScore               object\n",
      "EngagementSurvey              float64\n",
      "EmpSatisfaction                 int64\n",
      "SpecialProjectsCount            int64\n",
      "LastPerformanceReview_Date     object\n",
      "DaysLateLast30                  int64\n",
      "Absences                        int64\n",
      "dtype: object\n"
     ]
    }
   ],
   "source": [
    "# Vérifier les types de colonnes\n",
    "print(df.dtypes)"
   ]
  },
  {
   "cell_type": "code",
   "execution_count": 8,
   "id": "c0d245ee-8459-4a46-8f8b-e5e96c9d1965",
   "metadata": {},
   "outputs": [
    {
     "name": "stdout",
     "output_type": "stream",
     "text": [
      "              EmpID   MarriedID  MaritalStatusID    GenderID  EmpStatusID  \\\n",
      "count    104.000000  104.000000       104.000000  104.000000   104.000000   \n",
      "mean   10167.701923    0.451923         0.942308    0.423077     4.788462   \n",
      "std       89.400146    0.500093         0.943315    0.496440     0.633576   \n",
      "min    10004.000000    0.000000         0.000000    0.000000     1.000000   \n",
      "25%    10090.750000    0.000000         0.000000    0.000000     5.000000   \n",
      "50%    10170.500000    0.000000         1.000000    0.000000     5.000000   \n",
      "75%    10249.750000    1.000000         1.000000    1.000000     5.000000   \n",
      "max    10305.000000    1.000000         4.000000    1.000000     5.000000   \n",
      "\n",
      "           DeptID  PerfScoreID  FromDiversityJobFairID         Salary  Termd  \\\n",
      "count  104.000000   104.000000              104.000000     104.000000  104.0   \n",
      "mean     4.711538     2.903846                0.153846   65690.076923    1.0   \n",
      "std      0.920881     0.566358                0.362548   18679.799457    0.0   \n",
      "min      1.000000     1.000000                0.000000   45115.000000    1.0   \n",
      "25%      5.000000     3.000000                0.000000   53546.000000    1.0   \n",
      "50%      5.000000     3.000000                0.000000   60547.000000    1.0   \n",
      "75%      5.000000     3.000000                0.000000   70267.000000    1.0   \n",
      "max      6.000000     4.000000                1.000000  148999.000000    1.0   \n",
      "\n",
      "       PositionID           Zip   ManagerID  EngagementSurvey  \\\n",
      "count  104.000000    104.000000  104.000000        104.000000   \n",
      "mean    18.134615   3244.894231   16.903846          4.090481   \n",
      "std      4.975782   5814.112301   10.380638          0.810150   \n",
      "min      2.000000   1420.000000    1.000000          2.000000   \n",
      "25%     19.000000   1901.750000   11.000000          3.585000   \n",
      "50%     19.000000   2133.500000   16.000000          4.220000   \n",
      "75%     20.000000   2374.500000   20.000000          4.715000   \n",
      "max     30.000000  43050.000000   39.000000          5.000000   \n",
      "\n",
      "       EmpSatisfaction  SpecialProjectsCount  DaysLateLast30    Absences  \n",
      "count       104.000000            104.000000      104.000000  104.000000  \n",
      "mean          3.884615              0.730769        0.663462   11.048077  \n",
      "std           0.862461              1.849853        1.646477    5.808230  \n",
      "min           2.000000              0.000000        0.000000    1.000000  \n",
      "25%           3.000000              0.000000        0.000000    6.000000  \n",
      "50%           4.000000              0.000000        0.000000   11.000000  \n",
      "75%           5.000000              0.000000        0.000000   16.000000  \n",
      "max           5.000000              7.000000        6.000000   20.000000  \n"
     ]
    }
   ],
   "source": [
    "# Statistiques descriptives générales\n",
    "print(df.describe())"
   ]
  },
  {
   "cell_type": "code",
   "execution_count": 9,
   "id": "d0d475a7-0abb-4365-9238-09d81e715c5d",
   "metadata": {},
   "outputs": [
    {
     "name": "stdout",
     "output_type": "stream",
     "text": [
      "['Fully Meets' 'Needs Improvement' 'PIP' 'Exceeds']\n"
     ]
    }
   ],
   "source": [
    "print(df[\"PerformanceScore\"].unique())   #PIP=Performance Improvement Plan"
   ]
  },
  {
   "cell_type": "code",
   "execution_count": 10,
   "id": "04f78bb7-7879-47d7-b69a-ac1eb55f8c40",
   "metadata": {},
   "outputs": [
    {
     "name": "stdout",
     "output_type": "stream",
     "text": [
      "[3 2 1 4]\n"
     ]
    }
   ],
   "source": [
    "mapping = {\n",
    "    \"PIP\": 1,\n",
    "    \"Needs Improvement\": 2,\n",
    "    \"Fully Meets\": 3,\n",
    "    \"Exceeds\": 4\n",
    "}\n",
    "\n",
    "df[\"PerformanceScore\"] = df[\"PerformanceScore\"].map(mapping)\n",
    "\n",
    "print(df[\"PerformanceScore\"].unique())  # Doit afficher [1, 2, 3, 4]\n",
    "#print(df.info())  # Vérifie que la colonne est bien de type numérique"
   ]
  },
  {
   "cell_type": "code",
   "execution_count": 11,
   "id": "e860739b-ea5c-47a3-9b6c-27e249e170c0",
   "metadata": {},
   "outputs": [
    {
     "name": "stdout",
     "output_type": "stream",
     "text": [
      "Moyenne : 2.8846153846153846\n",
      "Médiane : 3.0\n",
      "Mode : 3\n",
      "Écart-type : 0.5962291262787754\n"
     ]
    }
   ],
   "source": [
    "# Affichage des mesures spécifiques\n",
    "print(\"Moyenne :\", df[\"PerformanceScore\"].mean())\n",
    "print(\"Médiane :\", df[\"PerformanceScore\"].median())\n",
    "print(\"Mode :\", df[\"PerformanceScore\"].mode()[0])\n",
    "print(\"Écart-type :\", df[\"PerformanceScore\"].std())"
   ]
  },
  {
   "cell_type": "code",
   "execution_count": 12,
   "id": "ec73c163-8c8c-44bb-bec3-870ba77a0ad1",
   "metadata": {},
   "outputs": [
    {
     "name": "stdout",
     "output_type": "stream",
     "text": [
      "count    104.000000\n",
      "mean       2.884615\n",
      "std        0.596229\n",
      "min        1.000000\n",
      "25%        3.000000\n",
      "50%        3.000000\n",
      "75%        3.000000\n",
      "max        4.000000\n",
      "Name: PerformanceScore, dtype: float64\n"
     ]
    }
   ],
   "source": [
    "print(df[\"PerformanceScore\"].describe())  # Moyenne, médiane, min, max, etc."
   ]
  },
  {
   "cell_type": "markdown",
   "id": "68e8bf4e-1a03-40a7-8aca-ddc22519d200",
   "metadata": {},
   "source": [
    "## INTERPRETATIONS\n",
    "#### count = 104; \n",
    "-> Il y a en tout 104 employes dans cette analyse.\n",
    "#### mean = 2.88 (~=3); \n",
    "-> La moyenne des performances des employes est proche de 3 (\"Fully Meets\") ce qui signifie qu'en moyenne, les employes repondent pleinement aux attentes.\n",
    "#### std = 0.60; \n",
    "-> Un ecart-type faible comme celui-ci signifie que les scores de performances sont peu disperses autour de la moyenne.\n",
    "#### 25%(1er quartile) = 3; \n",
    "-> Seulement 25% des employes enregistrent un score de performance inferieur a la moyenne, ce qui signifie que moins du quart des employes est en difficulte pour fournir des resultats convenables\n",
    "#### 50%(Mediane) = 3 & 75%(3e quartile) = 3; \n",
    "-> La majorite des employes a un score egale a 3\n",
    "#### max = 4; \n",
    "-> Quelques employes se demarquent avec des performances elevees(\"Exceeds\")"
   ]
  },
  {
   "cell_type": "markdown",
   "id": "2cb27316-621f-4cdf-8062-f7be677535ce",
   "metadata": {},
   "source": [
    "## Visualisation de la distribution des performances"
   ]
  },
  {
   "cell_type": "code",
   "execution_count": 13,
   "id": "76968f29-db4d-4f34-8d16-e7b0db019326",
   "metadata": {},
   "outputs": [
    {
     "data": {
      "image/png": "[encoded data removed]",
      "text/plain": [
       "<Figure size 800x500 with 1 Axes>"
      ]
     },
     "metadata": {},
     "output_type": "display_data"
    }
   ],
   "source": [
    "import matplotlib.pyplot as plt\n",
    "import seaborn as sns\n",
    "\n",
    "# Histogramme\n",
    "plt.figure(figsize=(8,5))\n",
    "sns.histplot(df[\"PerformanceScore\"], bins=4, kde=True)\n",
    "plt.title(\"Distribution des Scores de Performance\")\n",
    "plt.xlabel(\"Score de Performance\")\n",
    "plt.ylabel(\"Nombre d'employés\")\n",
    "plt.show()"
   ]
  },
  {
   "cell_type": "markdown",
   "id": "e0d73005-4d5a-4ba0-8f5d-d0158d9258f5",
   "metadata": {},
   "source": [
    "## INTERPRETATION"
   ]
  },
  {
   "cell_type": "code",
   "execution_count": 14,
   "id": "dce74ec2-034f-40b2-824b-888a0d13d053",
   "metadata": {},
   "outputs": [
    {
     "data": {
      "image/png": "[encoded data removed]",
      "text/plain": [
       "<Figure size 600x400 with 1 Axes>"
      ]
     },
     "metadata": {},
     "output_type": "display_data"
    }
   ],
   "source": [
    "plt.figure(figsize=(6,4))\n",
    "sns.boxplot(x=df[\"PerformanceScore\"])\n",
    "plt.title(\"Boxplot des Scores de Performance\")\n",
    "plt.show()\n"
   ]
  },
  {
   "cell_type": "code",
   "execution_count": 15,
   "id": "34dd5075-479d-46aa-8ccd-f33678ae26ad",
   "metadata": {},
   "outputs": [
    {
     "name": "stdout",
     "output_type": "stream",
     "text": [
      "Nombre d'outliers détectés : 23\n"
     ]
    }
   ],
   "source": [
    "Q1 = df[\"PerformanceScore\"].quantile(0.25)\n",
    "Q3 = df[\"PerformanceScore\"].quantile(0.75)\n",
    "IQR = Q3 - Q1\n",
    "\n",
    "# Seuils pour détecter les outliers\n",
    "lower_bound = Q1 - 1.5 * IQR\n",
    "upper_bound = Q3 + 1.5 * IQR\n",
    "\n",
    "# Filtrer les outliers\n",
    "outliers = df[(df[\"PerformanceScore\"] < lower_bound) | (df[\"PerformanceScore\"] > upper_bound)]\n",
    "print(f\"Nombre d'outliers détectés : {len(outliers)}\")\n"
   ]
  },
  {
   "cell_type": "code",
   "execution_count": 16,
   "id": "10ce7b0e-9de0-4ecc-affb-7466a47df714",
   "metadata": {},
   "outputs": [
    {
     "data": {
      "image/png": "[encoded data removed]",
      "text/plain": [
       "<Figure size 800x500 with 1 Axes>"
      ]
     },
     "metadata": {},
     "output_type": "display_data"
    }
   ],
   "source": [
    "# Scatter plot\n",
    "plt.figure(figsize=(8,5))\n",
    "sns.scatterplot(x=df[\"Absences\"], y=df[\"PerformanceScore\"])\n",
    "plt.title(\"Relation entre Performance et Heures Absences\")\n",
    "plt.xlabel(\"Heures Absences\")\n",
    "plt.ylabel(\"Score de Performance\")\n",
    "plt.show()"
   ]
  },
  {
   "cell_type": "code",
   "execution_count": 17,
   "id": "aed1f040-7529-4b2b-9382-527bb6d8a6a9",
   "metadata": {},
   "outputs": [
    {
     "ename": "SyntaxError",
     "evalue": "unterminated string literal (detected at line 4) (1722225446.py, line 4)",
     "output_type": "error",
     "traceback": [
      "\u001b[1;36m  Cell \u001b[1;32mIn[17], line 4\u001b[1;36m\u001b[0m\n\u001b[1;33m    plt.title(\"Average Performance Score by Department\u001b[0m\n\u001b[1;37m              ^\u001b[0m\n\u001b[1;31mSyntaxError\u001b[0m\u001b[1;31m:\u001b[0m unterminated string literal (detected at line 4)\n"
     ]
    }
   ],
   "source": [
    "plt.figure(figsize=(10,5))\n",
    "sns.barplot(x=df[\"Department\"], y=df[\"PerformanceScore\"], errorbar=None)\n",
    "plt.xticks(rotation=45)\n",
    "plt.title(\"Average Performance Score by Department\n",
    "plt.xlabel(\"Department\")\n",
    "plt.ylabel(\"Score Moyen\")\n",
    "plt.show()\n"
   ]
  },
  {
   "cell_type": "code",
   "execution_count": null,
   "id": "7bae7142-c901-4585-9c16-0dfe998ccbea",
   "metadata": {},
   "outputs": [],
   "source": []
  }
 ],
 "metadata": {
  "kernelspec": {
   "display_name": "Python 3 (ipykernel)",
   "language": "python",
   "name": "python3"
  },
  "language_info": {
   "codemirror_mode": {
    "name": "ipython",
    "version": 3
   },
   "file_extension": ".py",
   "mimetype": "text/x-python",
   "name": "python",
   "nbconvert_exporter": "python",
   "pygments_lexer": "ipython3",
   "version": "3.12.7"
  }
 },
 "nbformat": 4,
 "nbformat_minor": 5
}
